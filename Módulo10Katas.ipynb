{
 "cells": [
  {
   "cell_type": "markdown",
   "metadata": {},
   "source": [
    "# Módulo 10 "
   ]
  },
  {
   "cell_type": "markdown",
   "metadata": {},
   "source": [
    "## Tracebacks"
   ]
  },
  {
   "cell_type": "code",
   "execution_count": 1,
   "metadata": {},
   "outputs": [
    {
     "ename": "FileNotFoundError",
     "evalue": "[Errno 2] No such file or directory: 'path/to/mars.jpg'",
     "output_type": "error",
     "traceback": [
      "\u001b[1;31m---------------------------------------------------------------------------\u001b[0m",
      "\u001b[1;31mFileNotFoundError\u001b[0m                         Traceback (most recent call last)",
      "\u001b[1;32mc:\\Users\\Jael\\OneDrive - Universidad Autonoma de Nuevo León\\UANL\\Launch X\\Katas-JaelAguilar-LaunchX\\Módulo10Katas.ipynb Cell 3'\u001b[0m in \u001b[0;36m<module>\u001b[1;34m\u001b[0m\n\u001b[1;32m----> <a href='vscode-notebook-cell:/c%3A/Users/Jael/OneDrive%20-%20Universidad%20Autonoma%20de%20Nuevo%20Le%C3%B3n/UANL/Launch%20X/Katas-JaelAguilar-LaunchX/M%C3%B3dulo10Katas.ipynb#ch0000003?line=0'>1</a>\u001b[0m \u001b[39mopen\u001b[39;49m(\u001b[39m\"\u001b[39;49m\u001b[39mpath/to/mars.jpg\u001b[39;49m\u001b[39m\"\u001b[39;49m)\n",
      "\u001b[1;31mFileNotFoundError\u001b[0m: [Errno 2] No such file or directory: 'path/to/mars.jpg'"
     ]
    }
   ],
   "source": [
    "open(\"path/to/mars.jpg\")"
   ]
  },
  {
   "cell_type": "markdown",
   "metadata": {},
   "source": [
    "### open.py"
   ]
  },
  {
   "cell_type": "code",
   "execution_count": 2,
   "metadata": {},
   "outputs": [
    {
     "ename": "FileNotFoundError",
     "evalue": "[Errno 2] No such file or directory: 'path/to/mars.jpg'",
     "output_type": "error",
     "traceback": [
      "\u001b[1;31m---------------------------------------------------------------------------\u001b[0m",
      "\u001b[1;31mFileNotFoundError\u001b[0m                         Traceback (most recent call last)",
      "\u001b[1;32mc:\\Users\\Jael\\OneDrive - Universidad Autonoma de Nuevo León\\UANL\\Launch X\\Katas-JaelAguilar-LaunchX\\Módulo10Katas.ipynb Cell 5'\u001b[0m in \u001b[0;36m<module>\u001b[1;34m\u001b[0m\n\u001b[0;32m      <a href='vscode-notebook-cell:/c%3A/Users/Jael/OneDrive%20-%20Universidad%20Autonoma%20de%20Nuevo%20Le%C3%B3n/UANL/Launch%20X/Katas-JaelAguilar-LaunchX/M%C3%B3dulo10Katas.ipynb#ch0000005?line=1'>2</a>\u001b[0m     \u001b[39mopen\u001b[39m(\u001b[39m\"\u001b[39m\u001b[39mpath/to/mars.jpg\u001b[39m\u001b[39m\"\u001b[39m)\n\u001b[0;32m      <a href='vscode-notebook-cell:/c%3A/Users/Jael/OneDrive%20-%20Universidad%20Autonoma%20de%20Nuevo%20Le%C3%B3n/UANL/Launch%20X/Katas-JaelAguilar-LaunchX/M%C3%B3dulo10Katas.ipynb#ch0000005?line=3'>4</a>\u001b[0m \u001b[39mif\u001b[39;00m \u001b[39m__name__\u001b[39m\u001b[39m==\u001b[39m\u001b[39m\"\u001b[39m\u001b[39m__main__\u001b[39m\u001b[39m\"\u001b[39m:\n\u001b[1;32m----> <a href='vscode-notebook-cell:/c%3A/Users/Jael/OneDrive%20-%20Universidad%20Autonoma%20de%20Nuevo%20Le%C3%B3n/UANL/Launch%20X/Katas-JaelAguilar-LaunchX/M%C3%B3dulo10Katas.ipynb#ch0000005?line=4'>5</a>\u001b[0m     main()\n",
      "\u001b[1;32mc:\\Users\\Jael\\OneDrive - Universidad Autonoma de Nuevo León\\UANL\\Launch X\\Katas-JaelAguilar-LaunchX\\Módulo10Katas.ipynb Cell 5'\u001b[0m in \u001b[0;36mmain\u001b[1;34m()\u001b[0m\n\u001b[0;32m      <a href='vscode-notebook-cell:/c%3A/Users/Jael/OneDrive%20-%20Universidad%20Autonoma%20de%20Nuevo%20Le%C3%B3n/UANL/Launch%20X/Katas-JaelAguilar-LaunchX/M%C3%B3dulo10Katas.ipynb#ch0000005?line=0'>1</a>\u001b[0m \u001b[39mdef\u001b[39;00m \u001b[39mmain\u001b[39m():\n\u001b[1;32m----> <a href='vscode-notebook-cell:/c%3A/Users/Jael/OneDrive%20-%20Universidad%20Autonoma%20de%20Nuevo%20Le%C3%B3n/UANL/Launch%20X/Katas-JaelAguilar-LaunchX/M%C3%B3dulo10Katas.ipynb#ch0000005?line=1'>2</a>\u001b[0m     \u001b[39mopen\u001b[39;49m(\u001b[39m\"\u001b[39;49m\u001b[39mpath/to/mars.jpg\u001b[39;49m\u001b[39m\"\u001b[39;49m)\n",
      "\u001b[1;31mFileNotFoundError\u001b[0m: [Errno 2] No such file or directory: 'path/to/mars.jpg'"
     ]
    }
   ],
   "source": [
    "def main():\n",
    "    open(\"path/to/mars.jpg\")\n",
    "    \n",
    "if __name__==\"__main__\":\n",
    "    main()"
   ]
  },
  {
   "cell_type": "markdown",
   "metadata": {},
   "source": [
    "## Control de excepciones"
   ]
  },
  {
   "cell_type": "code",
   "execution_count": 3,
   "metadata": {},
   "outputs": [
    {
     "name": "stdout",
     "output_type": "stream",
     "text": [
      "Can't find the config.txt file!\n"
     ]
    }
   ],
   "source": [
    "try:\n",
    "    open(\"config.txt\")\n",
    "except:\n",
    "    print(\"Can't find the config.txt file!\")"
   ]
  },
  {
   "cell_type": "markdown",
   "metadata": {},
   "source": [
    "### config.py"
   ]
  },
  {
   "cell_type": "code",
   "execution_count": 4,
   "metadata": {},
   "outputs": [
    {
     "name": "stdout",
     "output_type": "stream",
     "text": [
      "Couldn't find the config.txt file!\n"
     ]
    }
   ],
   "source": [
    "def main():\n",
    "    try:\n",
    "        configuration = open('config.txt')\n",
    "    except FileNotFoundError:\n",
    "        print(\"Couldn't find the config.txt file!\")\n",
    "\n",
    "\n",
    "if __name__ == '__main__':\n",
    "    main()"
   ]
  },
  {
   "cell_type": "markdown",
   "metadata": {},
   "source": [
    "#### config.txt is a folder"
   ]
  },
  {
   "cell_type": "code",
   "execution_count": 5,
   "metadata": {},
   "outputs": [
    {
     "ename": "PermissionError",
     "evalue": "[Errno 13] Permission denied: 'config2.txt'",
     "output_type": "error",
     "traceback": [
      "\u001b[1;31m---------------------------------------------------------------------------\u001b[0m",
      "\u001b[1;31mPermissionError\u001b[0m                           Traceback (most recent call last)",
      "\u001b[1;32mc:\\Users\\Jael\\OneDrive - Universidad Autonoma de Nuevo León\\UANL\\Launch X\\Katas-JaelAguilar-LaunchX\\Módulo10Katas.ipynb Cell 11'\u001b[0m in \u001b[0;36m<module>\u001b[1;34m\u001b[0m\n\u001b[0;32m      <a href='vscode-notebook-cell:/c%3A/Users/Jael/OneDrive%20-%20Universidad%20Autonoma%20de%20Nuevo%20Le%C3%B3n/UANL/Launch%20X/Katas-JaelAguilar-LaunchX/M%C3%B3dulo10Katas.ipynb#ch0000011?line=4'>5</a>\u001b[0m         \u001b[39mprint\u001b[39m(\u001b[39m\"\u001b[39m\u001b[39mCouldn\u001b[39m\u001b[39m'\u001b[39m\u001b[39mt find the config.txt file!\u001b[39m\u001b[39m\"\u001b[39m)\n\u001b[0;32m      <a href='vscode-notebook-cell:/c%3A/Users/Jael/OneDrive%20-%20Universidad%20Autonoma%20de%20Nuevo%20Le%C3%B3n/UANL/Launch%20X/Katas-JaelAguilar-LaunchX/M%C3%B3dulo10Katas.ipynb#ch0000011?line=7'>8</a>\u001b[0m \u001b[39mif\u001b[39;00m \u001b[39m__name__\u001b[39m \u001b[39m==\u001b[39m \u001b[39m'\u001b[39m\u001b[39m__main__\u001b[39m\u001b[39m'\u001b[39m:\n\u001b[1;32m----> <a href='vscode-notebook-cell:/c%3A/Users/Jael/OneDrive%20-%20Universidad%20Autonoma%20de%20Nuevo%20Le%C3%B3n/UANL/Launch%20X/Katas-JaelAguilar-LaunchX/M%C3%B3dulo10Katas.ipynb#ch0000011?line=8'>9</a>\u001b[0m     main()\n",
      "\u001b[1;32mc:\\Users\\Jael\\OneDrive - Universidad Autonoma de Nuevo León\\UANL\\Launch X\\Katas-JaelAguilar-LaunchX\\Módulo10Katas.ipynb Cell 11'\u001b[0m in \u001b[0;36mmain\u001b[1;34m()\u001b[0m\n\u001b[0;32m      <a href='vscode-notebook-cell:/c%3A/Users/Jael/OneDrive%20-%20Universidad%20Autonoma%20de%20Nuevo%20Le%C3%B3n/UANL/Launch%20X/Katas-JaelAguilar-LaunchX/M%C3%B3dulo10Katas.ipynb#ch0000011?line=0'>1</a>\u001b[0m \u001b[39mdef\u001b[39;00m \u001b[39mmain\u001b[39m():\n\u001b[0;32m      <a href='vscode-notebook-cell:/c%3A/Users/Jael/OneDrive%20-%20Universidad%20Autonoma%20de%20Nuevo%20Le%C3%B3n/UANL/Launch%20X/Katas-JaelAguilar-LaunchX/M%C3%B3dulo10Katas.ipynb#ch0000011?line=1'>2</a>\u001b[0m     \u001b[39mtry\u001b[39;00m:\n\u001b[1;32m----> <a href='vscode-notebook-cell:/c%3A/Users/Jael/OneDrive%20-%20Universidad%20Autonoma%20de%20Nuevo%20Le%C3%B3n/UANL/Launch%20X/Katas-JaelAguilar-LaunchX/M%C3%B3dulo10Katas.ipynb#ch0000011?line=2'>3</a>\u001b[0m         configuration \u001b[39m=\u001b[39m \u001b[39mopen\u001b[39;49m(\u001b[39m'\u001b[39;49m\u001b[39mconfig2.txt\u001b[39;49m\u001b[39m'\u001b[39;49m)\n\u001b[0;32m      <a href='vscode-notebook-cell:/c%3A/Users/Jael/OneDrive%20-%20Universidad%20Autonoma%20de%20Nuevo%20Le%C3%B3n/UANL/Launch%20X/Katas-JaelAguilar-LaunchX/M%C3%B3dulo10Katas.ipynb#ch0000011?line=3'>4</a>\u001b[0m     \u001b[39mexcept\u001b[39;00m \u001b[39mFileNotFoundError\u001b[39;00m:\n\u001b[0;32m      <a href='vscode-notebook-cell:/c%3A/Users/Jael/OneDrive%20-%20Universidad%20Autonoma%20de%20Nuevo%20Le%C3%B3n/UANL/Launch%20X/Katas-JaelAguilar-LaunchX/M%C3%B3dulo10Katas.ipynb#ch0000011?line=4'>5</a>\u001b[0m         \u001b[39mprint\u001b[39m(\u001b[39m\"\u001b[39m\u001b[39mCouldn\u001b[39m\u001b[39m'\u001b[39m\u001b[39mt find the config.txt file!\u001b[39m\u001b[39m\"\u001b[39m)\n",
      "\u001b[1;31mPermissionError\u001b[0m: [Errno 13] Permission denied: 'config2.txt'"
     ]
    }
   ],
   "source": [
    "def main():\n",
    "    try:\n",
    "        configuration = open('config2.txt')\n",
    "    except FileNotFoundError:\n",
    "        print(\"Couldn't find the config.txt file!\")\n",
    "\n",
    "\n",
    "if __name__ == '__main__':\n",
    "    main()"
   ]
  },
  {
   "cell_type": "markdown",
   "metadata": {},
   "source": [
    "#### Detección de todos los errores"
   ]
  },
  {
   "cell_type": "code",
   "execution_count": 6,
   "metadata": {},
   "outputs": [
    {
     "name": "stdout",
     "output_type": "stream",
     "text": [
      "Couldn't find the config.txt file!\n"
     ]
    }
   ],
   "source": [
    "def main():\n",
    "    try:\n",
    "        configuration = open('config2.txt')\n",
    "    except Exception:\n",
    "        print(\"Couldn't find the config.txt file!\")\n",
    "\n",
    "\n",
    "if __name__ == '__main__':\n",
    "    main()"
   ]
  },
  {
   "cell_type": "markdown",
   "metadata": {},
   "source": [
    "#### FileNotFoundError y IsADirectoryError"
   ]
  },
  {
   "cell_type": "code",
   "execution_count": 2,
   "metadata": {},
   "outputs": [
    {
     "name": "stdout",
     "output_type": "stream",
     "text": [
      "You don't have permission to read this file\n"
     ]
    }
   ],
   "source": [
    "def main():\n",
    "    try:\n",
    "        configuration = open('config2.txt')\n",
    "    except FileNotFoundError:\n",
    "        print(\"Couldn't find the config.txt file!\")\n",
    "    except IsADirectoryError:\n",
    "        print(\"Found but directory\")\n",
    "    except PermissionError: ##Por Windows\n",
    "        print(\"You don't have permission to read this file\")\n",
    "        \n",
    "if __name__ == '__main__':\n",
    "    main()"
   ]
  },
  {
   "cell_type": "markdown",
   "metadata": {},
   "source": [
    "#### Errores juntos"
   ]
  },
  {
   "cell_type": "code",
   "execution_count": 1,
   "metadata": {},
   "outputs": [
    {
     "name": "stdout",
     "output_type": "stream",
     "text": [
      "You don't have permission to read this file\n"
     ]
    }
   ],
   "source": [
    "def main():\n",
    "    try:\n",
    "        configuration = open('config2.txt')\n",
    "    except FileNotFoundError:\n",
    "        print(\"Couldn't find the config.txt file!\")\n",
    "    except IsADirectoryError:\n",
    "        print(\"Found but directory\")\n",
    "    except PermissionError: ##Por Windows\n",
    "        print(\"You don't have permission to read this file\")\n",
    "    except (BlockingIOError, TimeoutError):\n",
    "        print(\"Filesystem under heavy load, can't complete reading configuration file\")\n",
    "        \n",
    "if __name__ == '__main__':\n",
    "    main()"
   ]
  },
  {
   "cell_type": "markdown",
   "metadata": {},
   "source": [
    "#### Palabra clave **as** y **errno**"
   ]
  },
  {
   "cell_type": "code",
   "execution_count": 5,
   "metadata": {},
   "outputs": [
    {
     "name": "stdout",
     "output_type": "stream",
     "text": [
      "Error trying to read the file: [Errno 13] Permission denied: 'config2.txt'\n",
      "Found the file but couldn't read it\n"
     ]
    }
   ],
   "source": [
    "def main():\n",
    "    try:\n",
    "        open('config2.txt')\n",
    "    except OSError as err:\n",
    "        print(f\"Error trying to read the file: {err}\")\n",
    "        if err.errno==13:\n",
    "            print(\"Found the file but couldn't read it\")\n",
    "            \n",
    "        \n",
    "if __name__ == '__main__':\n",
    "    main()"
   ]
  },
  {
   "cell_type": "markdown",
   "metadata": {},
   "source": [
    "## Generación de excepciones"
   ]
  },
  {
   "cell_type": "markdown",
   "metadata": {},
   "source": [
    "### Función water_left"
   ]
  },
  {
   "cell_type": "code",
   "execution_count": 7,
   "metadata": {},
   "outputs": [
    {
     "data": {
      "text/plain": [
       "'Total water left after 2 days is: -10 liters'"
      ]
     },
     "execution_count": 7,
     "metadata": {},
     "output_type": "execute_result"
    }
   ],
   "source": [
    "def water_left(astronauts, water_left, days_left):\n",
    "    daily_usage = astronauts * 11\n",
    "    total_usage = daily_usage * days_left\n",
    "    total_water_left = water_left - total_usage\n",
    "    return f\"Total water left after {days_left} days is: {total_water_left} liters\"\n",
    "\n",
    "water_left(5,100,2)"
   ]
  },
  {
   "cell_type": "markdown",
   "metadata": {},
   "source": [
    "#### Con RuntimeError"
   ]
  },
  {
   "cell_type": "code",
   "execution_count": 8,
   "metadata": {},
   "outputs": [
    {
     "ename": "RuntimeError",
     "evalue": "There is not enough water for 5 astronauts after 2 days!",
     "output_type": "error",
     "traceback": [
      "\u001b[1;31m---------------------------------------------------------------------------\u001b[0m",
      "\u001b[1;31mRuntimeError\u001b[0m                              Traceback (most recent call last)",
      "\u001b[1;32mc:\\Users\\Jael\\OneDrive - Universidad Autonoma de Nuevo León\\UANL\\Launch X\\Katas-JaelAguilar-LaunchX\\Módulo10Katas.ipynb Cell 24'\u001b[0m in \u001b[0;36m<module>\u001b[1;34m\u001b[0m\n\u001b[0;32m      <a href='vscode-notebook-cell:/c%3A/Users/Jael/OneDrive%20-%20Universidad%20Autonoma%20de%20Nuevo%20Le%C3%B3n/UANL/Launch%20X/Katas-JaelAguilar-LaunchX/M%C3%B3dulo10Katas.ipynb#ch0000024?line=5'>6</a>\u001b[0m         \u001b[39mraise\u001b[39;00m \u001b[39mRuntimeError\u001b[39;00m(\u001b[39mf\u001b[39m\u001b[39m\"\u001b[39m\u001b[39mThere is not enough water for \u001b[39m\u001b[39m{\u001b[39;00mastronauts\u001b[39m}\u001b[39;00m\u001b[39m astronauts after \u001b[39m\u001b[39m{\u001b[39;00mdays_left\u001b[39m}\u001b[39;00m\u001b[39m days!\u001b[39m\u001b[39m\"\u001b[39m)\n\u001b[0;32m      <a href='vscode-notebook-cell:/c%3A/Users/Jael/OneDrive%20-%20Universidad%20Autonoma%20de%20Nuevo%20Le%C3%B3n/UANL/Launch%20X/Katas-JaelAguilar-LaunchX/M%C3%B3dulo10Katas.ipynb#ch0000024?line=6'>7</a>\u001b[0m     \u001b[39mreturn\u001b[39;00m \u001b[39mf\u001b[39m\u001b[39m\"\u001b[39m\u001b[39mTotal water left after \u001b[39m\u001b[39m{\u001b[39;00mdays_left\u001b[39m}\u001b[39;00m\u001b[39m days is: \u001b[39m\u001b[39m{\u001b[39;00mtotal_water_left\u001b[39m}\u001b[39;00m\u001b[39m liters\u001b[39m\u001b[39m\"\u001b[39m\n\u001b[1;32m----> <a href='vscode-notebook-cell:/c%3A/Users/Jael/OneDrive%20-%20Universidad%20Autonoma%20de%20Nuevo%20Le%C3%B3n/UANL/Launch%20X/Katas-JaelAguilar-LaunchX/M%C3%B3dulo10Katas.ipynb#ch0000024?line=8'>9</a>\u001b[0m water_left(\u001b[39m5\u001b[39;49m,\u001b[39m100\u001b[39;49m,\u001b[39m2\u001b[39;49m)\n",
      "\u001b[1;32mc:\\Users\\Jael\\OneDrive - Universidad Autonoma de Nuevo León\\UANL\\Launch X\\Katas-JaelAguilar-LaunchX\\Módulo10Katas.ipynb Cell 24'\u001b[0m in \u001b[0;36mwater_left\u001b[1;34m(astronauts, water_left, days_left)\u001b[0m\n\u001b[0;32m      <a href='vscode-notebook-cell:/c%3A/Users/Jael/OneDrive%20-%20Universidad%20Autonoma%20de%20Nuevo%20Le%C3%B3n/UANL/Launch%20X/Katas-JaelAguilar-LaunchX/M%C3%B3dulo10Katas.ipynb#ch0000024?line=3'>4</a>\u001b[0m total_water_left \u001b[39m=\u001b[39m water_left \u001b[39m-\u001b[39m total_usage\n\u001b[0;32m      <a href='vscode-notebook-cell:/c%3A/Users/Jael/OneDrive%20-%20Universidad%20Autonoma%20de%20Nuevo%20Le%C3%B3n/UANL/Launch%20X/Katas-JaelAguilar-LaunchX/M%C3%B3dulo10Katas.ipynb#ch0000024?line=4'>5</a>\u001b[0m \u001b[39mif\u001b[39;00m total_water_left \u001b[39m<\u001b[39m \u001b[39m0\u001b[39m:\n\u001b[1;32m----> <a href='vscode-notebook-cell:/c%3A/Users/Jael/OneDrive%20-%20Universidad%20Autonoma%20de%20Nuevo%20Le%C3%B3n/UANL/Launch%20X/Katas-JaelAguilar-LaunchX/M%C3%B3dulo10Katas.ipynb#ch0000024?line=5'>6</a>\u001b[0m     \u001b[39mraise\u001b[39;00m \u001b[39mRuntimeError\u001b[39;00m(\u001b[39mf\u001b[39m\u001b[39m\"\u001b[39m\u001b[39mThere is not enough water for \u001b[39m\u001b[39m{\u001b[39;00mastronauts\u001b[39m}\u001b[39;00m\u001b[39m astronauts after \u001b[39m\u001b[39m{\u001b[39;00mdays_left\u001b[39m}\u001b[39;00m\u001b[39m days!\u001b[39m\u001b[39m\"\u001b[39m)\n\u001b[0;32m      <a href='vscode-notebook-cell:/c%3A/Users/Jael/OneDrive%20-%20Universidad%20Autonoma%20de%20Nuevo%20Le%C3%B3n/UANL/Launch%20X/Katas-JaelAguilar-LaunchX/M%C3%B3dulo10Katas.ipynb#ch0000024?line=6'>7</a>\u001b[0m \u001b[39mreturn\u001b[39;00m \u001b[39mf\u001b[39m\u001b[39m\"\u001b[39m\u001b[39mTotal water left after \u001b[39m\u001b[39m{\u001b[39;00mdays_left\u001b[39m}\u001b[39;00m\u001b[39m days is: \u001b[39m\u001b[39m{\u001b[39;00mtotal_water_left\u001b[39m}\u001b[39;00m\u001b[39m liters\u001b[39m\u001b[39m\"\u001b[39m\n",
      "\u001b[1;31mRuntimeError\u001b[0m: There is not enough water for 5 astronauts after 2 days!"
     ]
    }
   ],
   "source": [
    "def water_left(astronauts, water_left, days_left):\n",
    "    daily_usage = astronauts * 11\n",
    "    total_usage = daily_usage * days_left\n",
    "    total_water_left = water_left - total_usage\n",
    "    if total_water_left < 0:\n",
    "        raise RuntimeError(f\"There is not enough water for {astronauts} astronauts after {days_left} days!\")\n",
    "    return f\"Total water left after {days_left} days is: {total_water_left} liters\"\n",
    "\n",
    "water_left(5,100,2)"
   ]
  },
  {
   "cell_type": "markdown",
   "metadata": {},
   "source": [
    "#### Con TimeError"
   ]
  },
  {
   "cell_type": "code",
   "execution_count": 9,
   "metadata": {},
   "outputs": [
    {
     "ename": "TypeError",
     "evalue": "All arguments must be of type int, but received: '3'",
     "output_type": "error",
     "traceback": [
      "\u001b[1;31m---------------------------------------------------------------------------\u001b[0m",
      "\u001b[1;31mTypeError\u001b[0m                                 Traceback (most recent call last)",
      "\u001b[1;32mc:\\Users\\Jael\\OneDrive - Universidad Autonoma de Nuevo León\\UANL\\Launch X\\Katas-JaelAguilar-LaunchX\\Módulo10Katas.ipynb Cell 26'\u001b[0m in \u001b[0;36mwater_left\u001b[1;34m(astronauts, water_left, days_left)\u001b[0m\n\u001b[0;32m      <a href='vscode-notebook-cell:/c%3A/Users/Jael/OneDrive%20-%20Universidad%20Autonoma%20de%20Nuevo%20Le%C3%B3n/UANL/Launch%20X/Katas-JaelAguilar-LaunchX/M%C3%B3dulo10Katas.ipynb#ch0000026?line=2'>3</a>\u001b[0m \u001b[39mtry\u001b[39;00m:\n\u001b[1;32m----> <a href='vscode-notebook-cell:/c%3A/Users/Jael/OneDrive%20-%20Universidad%20Autonoma%20de%20Nuevo%20Le%C3%B3n/UANL/Launch%20X/Katas-JaelAguilar-LaunchX/M%C3%B3dulo10Katas.ipynb#ch0000026?line=3'>4</a>\u001b[0m     argument \u001b[39m/\u001b[39;49m \u001b[39m10\u001b[39;49m\n\u001b[0;32m      <a href='vscode-notebook-cell:/c%3A/Users/Jael/OneDrive%20-%20Universidad%20Autonoma%20de%20Nuevo%20Le%C3%B3n/UANL/Launch%20X/Katas-JaelAguilar-LaunchX/M%C3%B3dulo10Katas.ipynb#ch0000026?line=4'>5</a>\u001b[0m \u001b[39mexcept\u001b[39;00m \u001b[39mTypeError\u001b[39;00m:\n",
      "\u001b[1;31mTypeError\u001b[0m: unsupported operand type(s) for /: 'str' and 'int'",
      "\nDuring handling of the above exception, another exception occurred:\n",
      "\u001b[1;31mTypeError\u001b[0m                                 Traceback (most recent call last)",
      "\u001b[1;32mc:\\Users\\Jael\\OneDrive - Universidad Autonoma de Nuevo León\\UANL\\Launch X\\Katas-JaelAguilar-LaunchX\\Módulo10Katas.ipynb Cell 26'\u001b[0m in \u001b[0;36m<module>\u001b[1;34m\u001b[0m\n\u001b[0;32m     <a href='vscode-notebook-cell:/c%3A/Users/Jael/OneDrive%20-%20Universidad%20Autonoma%20de%20Nuevo%20Le%C3%B3n/UANL/Launch%20X/Katas-JaelAguilar-LaunchX/M%C3%B3dulo10Katas.ipynb#ch0000026?line=10'>11</a>\u001b[0m         \u001b[39mraise\u001b[39;00m \u001b[39mRuntimeError\u001b[39;00m(\u001b[39mf\u001b[39m\u001b[39m\"\u001b[39m\u001b[39mThere is not enough water for \u001b[39m\u001b[39m{\u001b[39;00mastronauts\u001b[39m}\u001b[39;00m\u001b[39m astronauts after \u001b[39m\u001b[39m{\u001b[39;00mdays_left\u001b[39m}\u001b[39;00m\u001b[39m days!\u001b[39m\u001b[39m\"\u001b[39m)\n\u001b[0;32m     <a href='vscode-notebook-cell:/c%3A/Users/Jael/OneDrive%20-%20Universidad%20Autonoma%20de%20Nuevo%20Le%C3%B3n/UANL/Launch%20X/Katas-JaelAguilar-LaunchX/M%C3%B3dulo10Katas.ipynb#ch0000026?line=11'>12</a>\u001b[0m     \u001b[39mreturn\u001b[39;00m \u001b[39mf\u001b[39m\u001b[39m\"\u001b[39m\u001b[39mTotal water left after \u001b[39m\u001b[39m{\u001b[39;00mdays_left\u001b[39m}\u001b[39;00m\u001b[39m days is: \u001b[39m\u001b[39m{\u001b[39;00mtotal_water_left\u001b[39m}\u001b[39;00m\u001b[39m liters\u001b[39m\u001b[39m\"\u001b[39m\n\u001b[1;32m---> <a href='vscode-notebook-cell:/c%3A/Users/Jael/OneDrive%20-%20Universidad%20Autonoma%20de%20Nuevo%20Le%C3%B3n/UANL/Launch%20X/Katas-JaelAguilar-LaunchX/M%C3%B3dulo10Katas.ipynb#ch0000026?line=13'>14</a>\u001b[0m water_left(\u001b[39m\"\u001b[39;49m\u001b[39m3\u001b[39;49m\u001b[39m\"\u001b[39;49m, \u001b[39m\"\u001b[39;49m\u001b[39m200\u001b[39;49m\u001b[39m\"\u001b[39;49m, \u001b[39mNone\u001b[39;49;00m)\n",
      "\u001b[1;32mc:\\Users\\Jael\\OneDrive - Universidad Autonoma de Nuevo León\\UANL\\Launch X\\Katas-JaelAguilar-LaunchX\\Módulo10Katas.ipynb Cell 26'\u001b[0m in \u001b[0;36mwater_left\u001b[1;34m(astronauts, water_left, days_left)\u001b[0m\n\u001b[0;32m      <a href='vscode-notebook-cell:/c%3A/Users/Jael/OneDrive%20-%20Universidad%20Autonoma%20de%20Nuevo%20Le%C3%B3n/UANL/Launch%20X/Katas-JaelAguilar-LaunchX/M%C3%B3dulo10Katas.ipynb#ch0000026?line=3'>4</a>\u001b[0m         argument \u001b[39m/\u001b[39m \u001b[39m10\u001b[39m\n\u001b[0;32m      <a href='vscode-notebook-cell:/c%3A/Users/Jael/OneDrive%20-%20Universidad%20Autonoma%20de%20Nuevo%20Le%C3%B3n/UANL/Launch%20X/Katas-JaelAguilar-LaunchX/M%C3%B3dulo10Katas.ipynb#ch0000026?line=4'>5</a>\u001b[0m     \u001b[39mexcept\u001b[39;00m \u001b[39mTypeError\u001b[39;00m:\n\u001b[1;32m----> <a href='vscode-notebook-cell:/c%3A/Users/Jael/OneDrive%20-%20Universidad%20Autonoma%20de%20Nuevo%20Le%C3%B3n/UANL/Launch%20X/Katas-JaelAguilar-LaunchX/M%C3%B3dulo10Katas.ipynb#ch0000026?line=5'>6</a>\u001b[0m         \u001b[39mraise\u001b[39;00m \u001b[39mTypeError\u001b[39;00m(\u001b[39mf\u001b[39m\u001b[39m\"\u001b[39m\u001b[39mAll arguments must be of type int, but received: \u001b[39m\u001b[39m'\u001b[39m\u001b[39m{\u001b[39;00margument\u001b[39m}\u001b[39;00m\u001b[39m'\u001b[39m\u001b[39m\"\u001b[39m)\n\u001b[0;32m      <a href='vscode-notebook-cell:/c%3A/Users/Jael/OneDrive%20-%20Universidad%20Autonoma%20de%20Nuevo%20Le%C3%B3n/UANL/Launch%20X/Katas-JaelAguilar-LaunchX/M%C3%B3dulo10Katas.ipynb#ch0000026?line=6'>7</a>\u001b[0m daily_usage \u001b[39m=\u001b[39m astronauts \u001b[39m*\u001b[39m \u001b[39m11\u001b[39m\n\u001b[0;32m      <a href='vscode-notebook-cell:/c%3A/Users/Jael/OneDrive%20-%20Universidad%20Autonoma%20de%20Nuevo%20Le%C3%B3n/UANL/Launch%20X/Katas-JaelAguilar-LaunchX/M%C3%B3dulo10Katas.ipynb#ch0000026?line=7'>8</a>\u001b[0m total_usage \u001b[39m=\u001b[39m daily_usage \u001b[39m*\u001b[39m days_left\n",
      "\u001b[1;31mTypeError\u001b[0m: All arguments must be of type int, but received: '3'"
     ]
    }
   ],
   "source": [
    "def water_left(astronauts, water_left, days_left):\n",
    "    for argument in [astronauts, water_left, days_left]:\n",
    "        try:\n",
    "            argument / 10\n",
    "        except TypeError:\n",
    "            raise TypeError(f\"All arguments must be of type int, but received: '{argument}'\")\n",
    "    daily_usage = astronauts * 11\n",
    "    total_usage = daily_usage * days_left\n",
    "    total_water_left = water_left - total_usage\n",
    "    if total_water_left < 0:\n",
    "        raise RuntimeError(f\"There is not enough water for {astronauts} astronauts after {days_left} days!\")\n",
    "    return f\"Total water left after {days_left} days is: {total_water_left} liters\"\n",
    "\n",
    "water_left(\"3\", \"200\", None)"
   ]
  }
 ],
 "metadata": {
  "interpreter": {
   "hash": "0888d53e06158d52ca3f0d6dd952dc8ca1c538d823fa16f44edceb8274694288"
  },
  "kernelspec": {
   "display_name": "Python 3.10.2 ('env': venv)",
   "language": "python",
   "name": "python3"
  },
  "language_info": {
   "codemirror_mode": {
    "name": "ipython",
    "version": 3
   },
   "file_extension": ".py",
   "mimetype": "text/x-python",
   "name": "python",
   "nbconvert_exporter": "python",
   "pygments_lexer": "ipython3",
   "version": "3.10.2"
  },
  "orig_nbformat": 4
 },
 "nbformat": 4,
 "nbformat_minor": 2
}
